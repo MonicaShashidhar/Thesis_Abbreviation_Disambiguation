{
  "nbformat": 4,
  "nbformat_minor": 0,
  "metadata": {
    "colab": {
      "provenance": []
    },
    "kernelspec": {
      "name": "python3",
      "display_name": "Python 3"
    },
    "language_info": {
      "name": "python"
    }
  },
  "cells": [
    {
      "cell_type": "code",
      "execution_count": 1,
      "metadata": {
        "colab": {
          "base_uri": "https://localhost:8080/"
        },
        "id": "WQ50KYPRzf-r",
        "outputId": "c6e32d40-6fe0-4540-a168-97b63657b53a"
      },
      "outputs": [
        {
          "output_type": "stream",
          "name": "stderr",
          "text": [
            "100%|██████████| 200/200 [2:29:20<00:00, 44.80s/it]\n"
          ]
        }
      ],
      "source": [
        "\n",
        "import pandas as pd\n",
        "import requests\n",
        "\n",
        "df = pd.read_csv(\"/content/drive/My Drive/MACROBATT/FINAL_SURVIVOR_DEATH/DISSAMBIGUATION/pretrained_zero_shot_predicted_actual.csv\")\n",
        "df = df[:200]\n",
        "\n",
        "from tqdm import tqdm\n",
        "final_list = []\n",
        "for index in tqdm(range(len(df))):\n",
        "\n",
        "    try:\n",
        "        response = requests.post(\"https://lihuchen-acrobert.hf.space/run/predict\", json={\n",
        "            \"data\": [df['Text'].iloc[index]]\n",
        "        }).json()\n",
        "        data = response[\"data\"]\n",
        "\n",
        "        temp_list = [df.iloc[index]['Filename'],df.iloc[index]['Text'],df.iloc[index]['API KEY Prediction'],df.iloc[index]['Predicted'],df.iloc[index]['ACTUAL'],eval(data[0])]\n",
        "\n",
        "        final_list.append(temp_list)\n",
        "\n",
        "    except:\n",
        "        continue\n",
        "\n",
        "\n",
        "df_final = pd.DataFrame(final_list,columns=['Filename','Text', 'API KEY Prediction', 'Predicted', 'ACTUAL','Results'])\n",
        "df_final.to_csv(\"/content/drive/My Drive/MACROBATT/FINAL_SURVIVOR_DEATH/DISSAMBIGUATION/dissambiguation_data.csv\",index=False)\n"
      ]
    },
    {
      "cell_type": "code",
      "source": [],
      "metadata": {
        "id": "U_tQvsdqzkQ7"
      },
      "execution_count": null,
      "outputs": []
    },
    {
      "cell_type": "code",
      "source": [
        "df_final = pd.DataFrame(final_list,columns=['Filename','Text', 'API KEY Prediction', 'Predicted', 'ACTUAL','Results'])\n",
        "df_final.to_csv(\"/content/drive/My Drive/MACROBATT/FINAL_SURVIVOR_DEATH/DISSAMBIGUATION/dissambiguation_data.csv\",index=False)"
      ],
      "metadata": {
        "id": "dFof7nE4WLXi"
      },
      "execution_count": 2,
      "outputs": []
    }
  ]
}